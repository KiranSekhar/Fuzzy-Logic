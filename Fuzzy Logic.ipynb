{
 "cells": [
  {
   "cell_type": "code",
   "execution_count": 5,
   "id": "060741e5",
   "metadata": {},
   "outputs": [],
   "source": [
    "import numpy as np\n",
    "import skfuzzy as fuzz\n",
    "from skfuzzy import control as ctrl\n",
    "\n",
    "\n",
    "ATTENDANCE = 'Attendance'\n",
    "PERFORMANCE = 'Performance'\n",
    "INTERNAL_MARKS = 'Internal_Marks'\n",
    "EXTERNAL_MARKS = 'External_Marks'\n",
    "\n",
    "POOR = 'Poor'\n",
    "AVERAGE = 'Average'\n",
    "GOOD = 'Good'\n",
    "V_GOOD = 'V.Good'\n",
    "EXCELLENT = 'Excellent'\n",
    "\n",
    "low_parameter = [0,0,40,50]\n",
    "average_parameter = [30,40,50,60]\n",
    "good_parameter = [40,50,60,70]\n",
    "v_good_parameter = [50,60,70,80]\n",
    "excellent_parameter = [65,80,100,100]\n",
    "\n",
    "\n",
    "def compute_fuzzy(attend, intr_mark, extn_mark):\n",
    "\n",
    "    intrn_marks = ctrl.Antecedent(np.arange(0,105,5), INTERNAL_MARKS)\n",
    "    attendance = ctrl.Antecedent(np.arange(0,105,5), ATTENDANCE)\n",
    "    extrn_marks = ctrl.Antecedent(np.arange(0,105,5), EXTERNAL_MARKS)\n",
    "    performance = ctrl.Consequent(np.arange(0,105,5), PERFORMANCE)\n",
    "\n",
    "    intrn_marks[POOR] = fuzz.trapmf(intrn_marks.universe, low_parameter)\n",
    "    intrn_marks[AVERAGE] = fuzz.trapmf(intrn_marks.universe, average_parameter)\n",
    "    intrn_marks[GOOD] = fuzz.trapmf(intrn_marks.universe, good_parameter)\n",
    "    intrn_marks[V_GOOD] = fuzz.trapmf(intrn_marks.universe, v_good_parameter)\n",
    "    intrn_marks[EXCELLENT] = fuzz.trapmf(intrn_marks.universe, excellent_parameter)\n",
    "\n",
    "    attendance[POOR] = fuzz.trapmf(attendance.universe, [0,0,45,55])\n",
    "    attendance[AVERAGE] = fuzz.trapmf(attendance.universe, [35,45,55,65])\n",
    "    attendance[GOOD] = fuzz.trapmf(attendance.universe, [45,55,65,75])\n",
    "    attendance[V_GOOD] = fuzz.trapmf(attendance.universe, [55,65,75,85])\n",
    "    attendance[EXCELLENT] = fuzz.trapmf(attendance.universe, [65,75,100,100])\n",
    "\n",
    "    extrn_marks[POOR] = fuzz.trapmf(extrn_marks.universe, low_parameter)\n",
    "    extrn_marks[AVERAGE] = fuzz.trapmf(extrn_marks.universe, average_parameter)\n",
    "    extrn_marks[GOOD] = fuzz.trapmf(extrn_marks.universe, good_parameter)\n",
    "    extrn_marks[V_GOOD] = fuzz.trapmf(extrn_marks.universe, v_good_parameter)\n",
    "    extrn_marks[EXCELLENT] = fuzz.trapmf(extrn_marks.universe, excellent_parameter)\n",
    "\n",
    "    performance[POOR] = fuzz.trapmf(performance.universe, low_parameter)\n",
    "    performance[AVERAGE] = fuzz.trapmf(performance.universe, average_parameter)\n",
    "    performance[GOOD] = fuzz.trapmf(performance.universe, good_parameter)\n",
    "    performance[V_GOOD] = fuzz.trapmf(performance.universe, v_good_parameter)\n",
    "    performance[EXCELLENT] = fuzz.trapmf(performance.universe, excellent_parameter)\n",
    "\n",
    "\n",
    "    rule1 = ctrl.Rule(attendance[POOR] & extrn_marks[POOR] & intrn_marks[POOR], performance[POOR])\n",
    "    rule2 = ctrl.Rule(attendance[POOR] & extrn_marks[AVERAGE] & intrn_marks[POOR], performance[POOR])\n",
    "    rule3 = ctrl.Rule(attendance[POOR] & extrn_marks[GOOD] & intrn_marks[POOR], performance[AVERAGE])\n",
    "    rule4 = ctrl.Rule(attendance[POOR] & extrn_marks[V_GOOD] & intrn_marks[POOR], performance[AVERAGE])\n",
    "    rule5 = ctrl.Rule(attendance[POOR] & extrn_marks[GOOD] & intrn_marks[V_GOOD], performance[GOOD])\n",
    "    rule6 = ctrl.Rule(attendance[POOR] & extrn_marks[POOR] & intrn_marks[AVERAGE], performance[POOR])\n",
    "    rule7 = ctrl.Rule(attendance[POOR] & extrn_marks[AVERAGE] & intrn_marks[AVERAGE], performance[AVERAGE])\n",
    "    rule8 = ctrl.Rule(attendance[POOR] & extrn_marks[GOOD] & intrn_marks[AVERAGE], performance[AVERAGE])\n",
    "    rule9 = ctrl.Rule((attendance[POOR] & extrn_marks[GOOD] & intrn_marks[GOOD]), performance[GOOD])\n",
    "    rule10 = ctrl.Rule(attendance[POOR] & extrn_marks[EXCELLENT] & intrn_marks[GOOD], performance[V_GOOD])\n",
    "    rule11 = ctrl.Rule(attendance[AVERAGE] & extrn_marks[AVERAGE] & intrn_marks[GOOD], performance[AVERAGE])\n",
    "    rule12 = ctrl.Rule(attendance[AVERAGE] & extrn_marks[GOOD] & intrn_marks[GOOD], performance[GOOD])\n",
    "    rule13 = ctrl.Rule(attendance[AVERAGE] & extrn_marks[V_GOOD] & intrn_marks[GOOD], performance[GOOD])\n",
    "    rule14 = ctrl.Rule(attendance[AVERAGE] & extrn_marks[V_GOOD] & intrn_marks[V_GOOD], performance[V_GOOD])\n",
    "    rule15 = ctrl.Rule(attendance[AVERAGE] & extrn_marks[AVERAGE] & intrn_marks[EXCELLENT], performance[GOOD])\n",
    "    rule16 = ctrl.Rule(attendance[AVERAGE] & extrn_marks[AVERAGE] & intrn_marks[AVERAGE], performance[AVERAGE])\n",
    "    rule17 = ctrl.Rule(attendance[AVERAGE] & extrn_marks[POOR] & intrn_marks[POOR], performance[POOR])\n",
    "    rule18 = ctrl.Rule(attendance[AVERAGE] & extrn_marks[POOR] & intrn_marks[GOOD], performance[AVERAGE])\n",
    "    rule19 = ctrl.Rule(attendance[GOOD] & extrn_marks[AVERAGE] & intrn_marks[AVERAGE], performance[AVERAGE])\n",
    "    rule20 = ctrl.Rule(attendance[GOOD] & extrn_marks[EXCELLENT] & intrn_marks[EXCELLENT], performance[V_GOOD])\n",
    "    rule21 = ctrl.Rule(attendance[GOOD] & extrn_marks[GOOD] & intrn_marks[AVERAGE], performance[GOOD])\n",
    "    rule22 = ctrl.Rule(attendance[GOOD] & extrn_marks[POOR] & intrn_marks[POOR], performance[POOR])\n",
    "    rule23 = ctrl.Rule(attendance[V_GOOD] & extrn_marks[EXCELLENT] & intrn_marks[V_GOOD], performance[V_GOOD])\n",
    "    rule24 = ctrl.Rule(attendance[V_GOOD] & extrn_marks[V_GOOD] & intrn_marks[V_GOOD], performance[V_GOOD])\n",
    "    rule25 = ctrl.Rule(attendance[V_GOOD] & extrn_marks[POOR] & intrn_marks[POOR], performance[POOR])\n",
    "    rule26 = ctrl.Rule(attendance[V_GOOD] & extrn_marks[GOOD] & intrn_marks[V_GOOD], performance[V_GOOD])\n",
    "    rule27 = ctrl.Rule(attendance[V_GOOD] & extrn_marks[EXCELLENT] & intrn_marks[EXCELLENT], performance[EXCELLENT])\n",
    "    rule28 = ctrl.Rule(attendance[EXCELLENT] & extrn_marks[EXCELLENT] & intrn_marks[V_GOOD], performance[V_GOOD])\n",
    "    rule29 = ctrl.Rule(attendance[EXCELLENT] & extrn_marks[AVERAGE] & intrn_marks[AVERAGE], performance[V_GOOD])\n",
    "    rule30 = ctrl.Rule(attendance[EXCELLENT] & extrn_marks[AVERAGE] & intrn_marks[V_GOOD], performance[GOOD])\n",
    "    rule31 = ctrl.Rule(attendance[EXCELLENT] & extrn_marks[AVERAGE] & intrn_marks[GOOD], performance[GOOD])\n",
    "    rule32 = ctrl.Rule(attendance[EXCELLENT] & extrn_marks[POOR] & intrn_marks[POOR], performance[POOR])\n",
    "    rule33 = ctrl.Rule(attendance[EXCELLENT] & extrn_marks[AVERAGE] & intrn_marks[POOR], performance[AVERAGE])\n",
    "    rule34 = ctrl.Rule(attendance[EXCELLENT] & extrn_marks[POOR] & intrn_marks[AVERAGE], performance[POOR])\n",
    "    rule35 = ctrl.Rule(attendance[EXCELLENT] & extrn_marks[GOOD] & intrn_marks[POOR], performance[GOOD])\n",
    "    rule36 = ctrl.Rule(attendance[EXCELLENT] & extrn_marks[POOR] & intrn_marks[GOOD], performance[AVERAGE])\n",
    "    rule37 = ctrl.Rule(attendance[EXCELLENT] & extrn_marks[V_GOOD] & intrn_marks[POOR], performance[V_GOOD])\n",
    "    rule38 = ctrl.Rule(attendance[EXCELLENT] & extrn_marks[POOR] & intrn_marks[V_GOOD], performance[AVERAGE])\n",
    "    rule39 = ctrl.Rule(attendance[EXCELLENT] & extrn_marks[POOR] & intrn_marks[EXCELLENT], performance[GOOD])\n",
    "    rule40 = ctrl.Rule(attendance[EXCELLENT] & extrn_marks[AVERAGE] & intrn_marks[EXCELLENT], performance[V_GOOD])\n",
    "    rule41 = ctrl.Rule(attendance[EXCELLENT] & extrn_marks[GOOD] & intrn_marks[EXCELLENT], performance[V_GOOD])\n",
    "    rule42 = ctrl.Rule(attendance[EXCELLENT] & extrn_marks[V_GOOD] & intrn_marks[EXCELLENT], performance[V_GOOD])\n",
    "    rule43 = ctrl.Rule(attendance[EXCELLENT] & extrn_marks[EXCELLENT] & intrn_marks[EXCELLENT], performance[EXCELLENT])\n",
    "\n",
    "\n",
    "\n",
    "    rule_list = [rule1, rule2, rule3, rule4, rule5, rule6, rule7, rule8, rule9, rule10, rule11, rule12, rule13, rule14, rule15, rule16, rule17, rule18, rule19, rule20, rule21, rule22, rule23, rule24, rule25, rule26, rule27, rule28, rule29, rule30, rule31, rule32, rule33, rule34, rule35, rule36, rule37, rule38, rule39, rule40, rule41, rule42, rule43]\n",
    "\n",
    "    performance_ctrl = ctrl.ControlSystem(rule_list)\n",
    "    perf_analysis = ctrl.ControlSystemSimulation(performance_ctrl)\n",
    "\n",
    "    perf_analysis.input[ATTENDANCE] = attend\n",
    "    perf_analysis.input[EXTERNAL_MARKS] = extn_mark\n",
    "    perf_analysis.input[INTERNAL_MARKS] = intr_mark\n",
    "\n",
    "    perf_analysis.compute()\n",
    "\n",
    "    return (str(perf_analysis.output[PERFORMANCE]))"
   ]
  },
  {
   "cell_type": "code",
   "execution_count": 12,
   "id": "11ffb265",
   "metadata": {},
   "outputs": [
    {
     "name": "stdout",
     "output_type": "stream",
     "text": [
      "Test Case 1: \n",
      "Attendance =75 , Internal Mark =50, External Mark =40\n",
      "Prediction :  37.55555555555556\n"
     ]
    }
   ],
   "source": [
    "#Test Case 1: Poor\n",
    "\n",
    "print(\"Test Case 1: \")\n",
    "print(\"Attendance =75 , Internal Mark =50, External Mark =40\")\n",
    "print(\"Prediction : \",compute_fuzzy(75,50,40))"
   ]
  },
  {
   "cell_type": "code",
   "execution_count": 13,
   "id": "3ce1dfc7",
   "metadata": {},
   "outputs": [
    {
     "name": "stdout",
     "output_type": "stream",
     "text": [
      "Test Case 2: \n",
      "Attendance =75 , Internal Mark =, External Mark =40\n",
      "Prediction :  85.9090909090909\n"
     ]
    }
   ],
   "source": [
    "#Test Case 2: Excellent\n",
    "\n",
    "print(\"Test Case 2: \")\n",
    "print(\"Attendance =75 , Internal Mark =81, External Mark =91\")\n",
    "print(\"Prediction : \",compute_fuzzy(75,81,91))"
   ]
  },
  {
   "cell_type": "code",
   "execution_count": 15,
   "id": "4772d3c0",
   "metadata": {},
   "outputs": [
    {
     "name": "stdout",
     "output_type": "stream",
     "text": [
      "Test Case 3: \n",
      "Attendance =75 , Internal Mark =60, External Mark =50\n",
      "Prediction :  59.99999999999999\n"
     ]
    }
   ],
   "source": [
    "#Test Case 2: Average\n",
    "\n",
    "print(\"Test Case 3: \")\n",
    "print(\"Attendance =75 , Internal Mark =60, External Mark =50\")\n",
    "print(\"Prediction : \",compute_fuzzy(75,60,50))"
   ]
  }
 ],
 "metadata": {
  "kernelspec": {
   "display_name": "Python 3",
   "language": "python",
   "name": "python3"
  },
  "language_info": {
   "codemirror_mode": {
    "name": "ipython",
    "version": 3
   },
   "file_extension": ".py",
   "mimetype": "text/x-python",
   "name": "python",
   "nbconvert_exporter": "python",
   "pygments_lexer": "ipython3",
   "version": "3.8.8"
  }
 },
 "nbformat": 4,
 "nbformat_minor": 5
}
